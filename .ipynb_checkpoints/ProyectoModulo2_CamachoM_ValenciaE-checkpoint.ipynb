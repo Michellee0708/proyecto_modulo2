{
 "cells": [
  {
   "cell_type": "markdown",
   "metadata": {},
   "source": [
    "# Multivariable con Montecarlo"
   ]
  },
  {
   "cell_type": "markdown",
   "metadata": {},
   "source": [
    "##  1. Obejtivos\n",
    "\n",
    "### 1.1 Objetivo general\n",
    "\n",
    "- Poner en práctica conocimientos sobre programación lineal en problemas cotidianos"
   ]
  },
  {
   "cell_type": "markdown",
   "metadata": {},
   "source": [
    "### 1.2 Obejtivos específicos\n",
    "\n",
    "- Calcular una integral triple de una función de tres variables, r, θ y φ, en un cierto rango de límites.\n",
    "- Interpretar resultados sobre aplicaciones en la vida cotidiana"
   ]
  },
  {
   "cell_type": "markdown",
   "metadata": {},
   "source": [
    "## 2. Modelo que representa el problema"
   ]
  },
  {
   "cell_type": "markdown",
   "metadata": {},
   "source": [
    "\"El método de Montecarlo para el cálculo de integrales de una sola variable no es muy eficiente, comparado con otros métodos numéricos que convergen más rapidamente al valor de la integral. Pero sí cobra importancia en el caso del cálculo numérico de integrales múltiples\" (Kisbye, 2009).\n",
    "\n",
    "Las interpretación correspondiente de un integral triple:\n",
    "<img style=\"float: center; margin: 0px 0px 15px 15px;\" src=\"definicionin.png\" width=\"400px\" height=\"100px\" />\n",
    "donde f(x,y,z) es mayor o igual a 0 no es muy útil porque será el hipervolumen de un objeto tetradimensinado y, por supuesto, es muy difícil representar. No obstante, la tripe integral se puede intepretar de varias maneras en diferentes situaciones físicas lo que depende de interpretación de cada variable( x,y,z) y la función de estas. Una de las más comunes es la repsentación del volumen de una figura en R3 o como se muestra a continuación:\n",
    "\n",
    "La siguiente figura representa una sólido en 3D:\n",
    "<img style=\"float: center; margin: 0px 0px 15px 15px;\" src=\"esfera\n",
    ".png\" width=\"200px\" height=\"100px\" />\n",
    "\n",
    "\n",
    "la proyección de E sobre el plano xy es el disco $x^2+y^2<=4$. La superficie inferior de E es el cono $z^2=x^2+y^2$ y la superficie superior es el plano z=2.\n",
    "\n",
    "Para este problema se encontrará el volumen de la figura que está dada por la siguiente integral:\n",
    "<img style=\"float: center; margin: 0px 0px 15px 15px;\" src=\"inteya.png\" width=\"300px\" height=\"100px\" />\n",
    "\n",
    "La integral está en coordenadas esféricas debido a la dificultad de resolverla en coordenadas cartesianas."
   ]
  },
  {
   "cell_type": "markdown",
   "metadata": {},
   "source": [
    "## 3. Solución del problema"
   ]
  },
  {
   "cell_type": "code",
   "execution_count": 1,
   "metadata": {},
   "outputs": [],
   "source": [
    "import numpy as np\n",
    "import pandas as pd"
   ]
  },
  {
   "cell_type": "code",
   "execution_count": 2,
   "metadata": {},
   "outputs": [],
   "source": [
    "def fintegrand(r,theta,phi):\n",
    "    return 4-(r**2)-(theta**2)-(phi**2)"
   ]
  },
  {
   "cell_type": "code",
   "execution_count": 3,
   "metadata": {},
   "outputs": [],
   "source": [
    "def Montecarlo(fintegrand,a1,b1,a2,b2,a3,b3,N):\n",
    "    V=(b1-a1)*(b2-a2)*(b3-a3)\n",
    "    r=np.random.uniform(a1,b1,N)\n",
    "    theta=np.random.uniform(a2,b2,N)\n",
    "    phi=np.random.uniform(a3,b3,N)\n",
    "    return V*np.sum(fintegrand(r,theta,phi))/N"
   ]
  },
  {
   "cell_type": "code",
   "execution_count": 4,
   "metadata": {},
   "outputs": [
    {
     "data": {
      "text/html": [
       "<div>\n",
       "<style scoped>\n",
       "    .dataframe tbody tr th:only-of-type {\n",
       "        vertical-align: middle;\n",
       "    }\n",
       "\n",
       "    .dataframe tbody tr th {\n",
       "        vertical-align: top;\n",
       "    }\n",
       "\n",
       "    .dataframe thead th {\n",
       "        text-align: right;\n",
       "    }\n",
       "</style>\n",
       "<table border=\"1\" class=\"dataframe\">\n",
       "  <thead>\n",
       "    <tr style=\"text-align: right;\">\n",
       "      <th></th>\n",
       "      <th>Aproximación a la integral triple</th>\n",
       "    </tr>\n",
       "  </thead>\n",
       "  <tbody>\n",
       "    <tr>\n",
       "      <th>10</th>\n",
       "      <td>2.93879</td>\n",
       "    </tr>\n",
       "    <tr>\n",
       "      <th>100</th>\n",
       "      <td>2.92477</td>\n",
       "    </tr>\n",
       "    <tr>\n",
       "      <th>1000</th>\n",
       "      <td>2.9484</td>\n",
       "    </tr>\n",
       "    <tr>\n",
       "      <th>10000</th>\n",
       "      <td>2.97519</td>\n",
       "    </tr>\n",
       "    <tr>\n",
       "      <th>100000</th>\n",
       "      <td>2.96203</td>\n",
       "    </tr>\n",
       "    <tr>\n",
       "      <th>1000000</th>\n",
       "      <td>2.963</td>\n",
       "    </tr>\n",
       "  </tbody>\n",
       "</table>\n",
       "</div>"
      ],
      "text/plain": [
       "        Aproximación a la integral triple\n",
       "10                                2.93879\n",
       "100                               2.92477\n",
       "1000                               2.9484\n",
       "10000                             2.97519\n",
       "100000                            2.96203\n",
       "1000000                             2.963"
      ]
     },
     "execution_count": 4,
     "metadata": {},
     "output_type": "execute_result"
    }
   ],
   "source": [
    "a1,b1,a2,b2,a3,b3= 0,9/10,0,1,0,11/10\n",
    "N=(np.logspace(1,6,6)).astype(int)\n",
    "\n",
    "df=pd.DataFrame(index=N, columns=['Aproximación a la integral triple'])\n",
    "\n",
    "for n in N:\n",
    "    df.loc[n,'Aproximación a la integral triple']=Montecarlo(fintegrand,a1,b1,a2,b2,a3,b3,n)\n",
    "\n",
    "df"
   ]
  },
  {
   "cell_type": "markdown",
   "metadata": {},
   "source": [
    "## 5. Conclusiones"
   ]
  },
  {
   "cell_type": "markdown",
   "metadata": {},
   "source": [
    "El resultado en donde se utilizó MonteCarlo para N igual a 1 000 000 es muy preciso y exacto al resultado obtenido en donde se utilizó el software Wolfram Alpha, con un porcentaje de error de 0..00979%. Utilizar el método de MonteCarlo para integrales múltiples resulta excelente para estimar resultados muy precisos, el algoritmo a utilizar no difiere mucho del algoritmo para integrales de una variable. Todos los específicos propuestos del proyecto fueron cumplidos.\n"
   ]
  },
  {
   "cell_type": "markdown",
   "metadata": {},
   "source": [
    "## 6. Referencias"
   ]
  },
  {
   "cell_type": "markdown",
   "metadata": {},
   "source": [
    "Kisbye, P. (2009). Integración por Monte Carlo. abril 24, 2019, de FaMAF Sitio web: http://www.ing.unne.edu.ar/assets/pdf/academica/departamentos/computacion/montecarlo.pdf"
   ]
  }
 ],
 "metadata": {
  "kernelspec": {
   "display_name": "Python 3",
   "language": "python",
   "name": "python3"
  },
  "language_info": {
   "codemirror_mode": {
    "name": "ipython",
    "version": 3
   },
   "file_extension": ".py",
   "mimetype": "text/x-python",
   "name": "python",
   "nbconvert_exporter": "python",
   "pygments_lexer": "ipython3",
   "version": "3.7.3"
  }
 },
 "nbformat": 4,
 "nbformat_minor": 2
}
